{
  "nbformat": 4,
  "nbformat_minor": 0,
  "metadata": {
    "colab": {
      "name": "1301184103_Firlisa Anggraeni_Tools 2 Assignment.ipynb",
      "provenance": [],
      "collapsed_sections": [],
      "toc_visible": true
    },
    "kernelspec": {
      "display_name": "Python 3",
      "language": "python",
      "name": "python3"
    },
    "language_info": {
      "codemirror_mode": {
        "name": "ipython",
        "version": 3
      },
      "file_extension": ".py",
      "mimetype": "text/x-python",
      "name": "python",
      "nbconvert_exporter": "python",
      "pygments_lexer": "ipython3",
      "version": "3.8.3"
    }
  },
  "cells": [
    {
      "cell_type": "markdown",
      "metadata": {
        "button": false,
        "id": "eOrotXqjrU9k",
        "new_sheet": false,
        "run_control": {
          "read_only": false
        }
      },
      "source": [
        "# Downloading and Prepping Data <a id=\"2\"></a>"
      ]
    },
    {
      "cell_type": "markdown",
      "metadata": {
        "button": false,
        "id": "HlkvIvpOrU9l",
        "new_sheet": false,
        "run_control": {
          "read_only": false
        }
      },
      "source": [
        "Import primary modules."
      ]
    },
    {
      "cell_type": "code",
      "metadata": {
        "button": false,
        "id": "m6OpAccNrU9l",
        "new_sheet": false,
        "run_control": {
          "read_only": false
        }
      },
      "source": [
        "import matplotlib.pyplot as plt\n",
        "import numpy as np  # useful for many scientific computing in Python\n",
        "import pandas as pd # primary data structure library\n"
      ],
      "execution_count": 11,
      "outputs": []
    },
    {
      "cell_type": "markdown",
      "metadata": {
        "button": false,
        "id": "k6WJnInxrU9p",
        "new_sheet": false,
        "run_control": {
          "read_only": false
        }
      },
      "source": [
        "Download the dataset and read it into a *pandas* dataframe."
      ]
    },
    {
      "cell_type": "code",
      "metadata": {
        "button": false,
        "colab": {
          "base_uri": "https://localhost:8080/"
        },
        "id": "L80QpVpOrU9p",
        "new_sheet": false,
        "run_control": {
          "read_only": false
        },
        "outputId": "3b265fe0-039e-4f38-af49-08fb99e85edd"
      },
      "source": [
        "df_can = pd.read_excel('https://s3-api.us-geo.objectstorage.softlayer.net/cf-courses-data/CognitiveClass/DV0101EN/labs/Data_Files/Canada.xlsx',\n",
        "                       sheet_name='Canada by Citizenship',\n",
        "                       skiprows=range(20),\n",
        "                       skipfooter=2\n",
        "                      )\n",
        "\n",
        "print('Data downloaded and read into a dataframe!')"
      ],
      "execution_count": 12,
      "outputs": [
        {
          "output_type": "stream",
          "text": [
            "Data downloaded and read into a dataframe!\n"
          ],
          "name": "stdout"
        }
      ]
    },
    {
      "cell_type": "markdown",
      "metadata": {
        "button": false,
        "id": "VYd1elD1rU9x",
        "new_sheet": false,
        "run_control": {
          "read_only": false
        }
      },
      "source": [
        "Clean up data. We will make some modifications to the original dataset to make it easier to create our visualizations. Refer to *Introduction to Matplotlib and Line Plots* and *Area Plots, Histograms, and Bar Plots* for a detailed description of this preprocessing."
      ]
    },
    {
      "cell_type": "code",
      "metadata": {
        "button": false,
        "colab": {
          "base_uri": "https://localhost:8080/"
        },
        "id": "XOr65n4trU9y",
        "new_sheet": false,
        "run_control": {
          "read_only": false
        },
        "outputId": "7cd5dbd5-c6d1-4db2-9144-e55d15f33e12"
      },
      "source": [
        "# clean up the dataset to remove unnecessary columns (eg. REG) \n",
        "df_can.drop(['AREA', 'REG', 'DEV', 'Type', 'Coverage'], axis=1, inplace=True)\n",
        "\n",
        "# let's rename the columns so that they make sense\n",
        "df_can.rename(columns={'OdName':'Country', 'AreaName':'Continent','RegName':'Region'}, inplace=True)\n",
        "\n",
        "# for sake of consistency, let's also make all column labels of type string\n",
        "df_can.columns = list(map(str, df_can.columns))\n",
        "\n",
        "# set the country name as index - useful for quickly looking up countries using .loc method\n",
        "df_can.set_index('Country', inplace=True)\n",
        "\n",
        "# add total column\n",
        "df_can['Total'] = df_can.sum(axis=1)\n",
        "\n",
        "# years that we will be using in this lesson - useful for plotting later on\n",
        "years = list(map(str, range(1980, 2014)))\n",
        "print('data dimensions:', df_can.shape)\n"
      ],
      "execution_count": 13,
      "outputs": [
        {
          "output_type": "stream",
          "text": [
            "data dimensions: (195, 38)\n"
          ],
          "name": "stdout"
        }
      ]
    },
    {
      "cell_type": "markdown",
      "metadata": {
        "button": false,
        "id": "uZ7ZcrfUrU-D",
        "new_sheet": false,
        "run_control": {
          "read_only": false
        }
      },
      "source": [
        "**Question 1:** Using a pie chart, explore the proportion (percentage) of new immigrants grouped by continents in the year 2013.\n",
        "\n",
        "**Note**: You might need to play with the explore values in order to fix any overlapping slice values."
      ]
    },
    {
      "cell_type": "code",
      "metadata": {
        "button": false,
        "colab": {
          "base_uri": "https://localhost:8080/",
          "height": 758
        },
        "id": "v3JjdS-mrU-D",
        "new_sheet": false,
        "run_control": {
          "read_only": false
        },
        "outputId": "227202d6-2378-4d95-ace7-01c441ab8d90"
      },
      "source": [
        "### type your answer here\n",
        "continent_2013 = df_can[['Continent', \"2013\"]]\n",
        "continent_2013 = continent_2013.groupby('Continent', axis=0).sum()\n",
        "continent_2013[\"2013\"].plot(\n",
        "                            kind=\"pie\",\n",
        "                            figsize=(20,11),\n",
        "                            autopct='%1.1f%%',\n",
        "                            startangle=30,\n",
        "                            shadow = True,\n",
        "                            labels=None,\n",
        "                            pctdistance=1.12,\n",
        "                            fontsize=8,\n",
        "                            colors = [\"lightsalmon\",\"lightcoral\", \"lightskyblue\",\"aquamarine\",\"khaki\",\"mediumorchid\"],\n",
        "                            explode=[0.1, 0, 0, 0, 0, 0]\n",
        "                            )\n",
        "\n",
        "plt.legend(\n",
        "    labels=continent_2013.index,\n",
        "    loc=\"upper left\",\n",
        "    fontsize='x-small'\n",
        ")\n",
        "print(continent_2013)\n",
        "plt.show()\n",
        "\n"
      ],
      "execution_count": 29,
      "outputs": [
        {
          "output_type": "stream",
          "text": [
            "                                   2013\n",
            "Continent                              \n",
            "Africa                            38543\n",
            "Asia                             155075\n",
            "Europe                            28691\n",
            "Latin America and the Caribbean   24950\n",
            "Northern America                   8503\n",
            "Oceania                            1775\n"
          ],
          "name": "stdout"
        },
        {
          "output_type": "display_data",
          "data": {
            "image/png": "[encoded data removed]",
            "text/plain": [
              "<Figure size 1440x792 with 1 Axes>"
            ]
          },
          "metadata": {
            "tags": []
          }
        }
      ]
    },
    {
      "cell_type": "markdown",
      "metadata": {
        "button": false,
        "id": "943LO07qrU-V",
        "new_sheet": false,
        "run_control": {
          "read_only": false
        }
      },
      "source": [
        "**Question 2:** Compare the distribution of the number of immigrants from Pakistan and Afghanistan from 1980 to 2013."
      ]
    },
    {
      "cell_type": "markdown",
      "metadata": {
        "button": false,
        "id": "72LNdQ9RrU-W",
        "new_sheet": false,
        "run_control": {
          "read_only": false
        }
      },
      "source": [
        "Step 1: Get the dataset for Pakistan and Afghanistan and call the dataframe **df_PA**."
      ]
    },
    {
      "cell_type": "code",
      "metadata": {
        "button": false,
        "colab": {
          "base_uri": "https://localhost:8080/",
          "height": 277
        },
        "id": "OMfvH2aurU-Z",
        "new_sheet": false,
        "run_control": {
          "read_only": false
        },
        "outputId": "7107b285-beae-4c93-d5a7-d587b1941366"
      },
      "source": [
        "### type your answer here\n",
        "df_PA = df_can.loc[[\"Pakistan\",\"Afghanistan\"], years].transpose()\n",
        "df_PA.describe()\n",
        "\n",
        "\n",
        "\n",
        "\n"
      ],
      "execution_count": 15,
      "outputs": [
        {
          "output_type": "execute_result",
          "data": {
            "text/html": [
              "<div>\n",
              "<style scoped>\n",
              "    .dataframe tbody tr th:only-of-type {\n",
              "        vertical-align: middle;\n",
              "    }\n",
              "\n",
              "    .dataframe tbody tr th {\n",
              "        vertical-align: top;\n",
              "    }\n",
              "\n",
              "    .dataframe thead th {\n",
              "        text-align: right;\n",
              "    }\n",
              "</style>\n",
              "<table border=\"1\" class=\"dataframe\">\n",
              "  <thead>\n",
              "    <tr style=\"text-align: right;\">\n",
              "      <th>Country</th>\n",
              "      <th>Pakistan</th>\n",
              "      <th>Afghanistan</th>\n",
              "    </tr>\n",
              "  </thead>\n",
              "  <tbody>\n",
              "    <tr>\n",
              "      <th>count</th>\n",
              "      <td>34.000000</td>\n",
              "      <td>34.000000</td>\n",
              "    </tr>\n",
              "    <tr>\n",
              "      <th>mean</th>\n",
              "      <td>7105.882353</td>\n",
              "      <td>1724.676471</td>\n",
              "    </tr>\n",
              "    <tr>\n",
              "      <th>std</th>\n",
              "      <td>5315.849587</td>\n",
              "      <td>1196.705040</td>\n",
              "    </tr>\n",
              "    <tr>\n",
              "      <th>min</th>\n",
              "      <td>514.000000</td>\n",
              "      <td>16.000000</td>\n",
              "    </tr>\n",
              "    <tr>\n",
              "      <th>25%</th>\n",
              "      <td>1565.750000</td>\n",
              "      <td>762.750000</td>\n",
              "    </tr>\n",
              "    <tr>\n",
              "      <th>50%</th>\n",
              "      <td>7014.000000</td>\n",
              "      <td>1752.000000</td>\n",
              "    </tr>\n",
              "    <tr>\n",
              "      <th>75%</th>\n",
              "      <td>12259.000000</td>\n",
              "      <td>2615.000000</td>\n",
              "    </tr>\n",
              "    <tr>\n",
              "      <th>max</th>\n",
              "      <td>16708.000000</td>\n",
              "      <td>4067.000000</td>\n",
              "    </tr>\n",
              "  </tbody>\n",
              "</table>\n",
              "</div>"
            ],
            "text/plain": [
              "Country      Pakistan  Afghanistan\n",
              "count       34.000000    34.000000\n",
              "mean      7105.882353  1724.676471\n",
              "std       5315.849587  1196.705040\n",
              "min        514.000000    16.000000\n",
              "25%       1565.750000   762.750000\n",
              "50%       7014.000000  1752.000000\n",
              "75%      12259.000000  2615.000000\n",
              "max      16708.000000  4067.000000"
            ]
          },
          "metadata": {
            "tags": []
          },
          "execution_count": 15
        }
      ]
    },
    {
      "cell_type": "markdown",
      "metadata": {
        "button": false,
        "id": "hQYKR4T4rU-e",
        "new_sheet": false,
        "run_control": {
          "read_only": false
        }
      },
      "source": [
        "Step 2: Plot data."
      ]
    },
    {
      "cell_type": "code",
      "metadata": {
        "button": false,
        "colab": {
          "base_uri": "https://localhost:8080/",
          "height": 460
        },
        "id": "iLUPNOixrU-f",
        "new_sheet": false,
        "run_control": {
          "read_only": false
        },
        "outputId": "a29a113d-7698-43f9-f5b2-f204ca7f6857"
      },
      "source": [
        "### type your answer here\n",
        "df_PA.plot(\n",
        "            \n",
        "            kind=\"box\", figsize=(10,7), color=\"blue\", vert=False\n",
        ")\n",
        "plt.title(\"Box plots of Immigrants from Pakistan and Afghanistan\")\n",
        "plt.xlabel(\"Number of Immigrants\")\n",
        "plt.ylabel(\"Countries\")           "
      ],
      "execution_count": 16,
      "outputs": [
        {
          "output_type": "execute_result",
          "data": {
            "text/plain": [
              "Text(0, 0.5, 'Countries')"
            ]
          },
          "metadata": {
            "tags": []
          },
          "execution_count": 16
        },
        {
          "output_type": "display_data",
          "data": {
            "image/png": "[encoded data removed]",
            "text/plain": [
              "<Figure size 720x504 with 1 Axes>"
            ]
          },
          "metadata": {
            "tags": [],
            "needs_background": "light"
          }
        }
      ]
    },
    {
      "cell_type": "markdown",
      "metadata": {
        "button": false,
        "id": "bhFX3AbtrU_O",
        "new_sheet": false,
        "run_control": {
          "read_only": false
        }
      },
      "source": [
        "**Question 3**: Create a scatter plot of the total immigration from Denmark, Norway, and Sweden to Canada from 1980 to 2013?"
      ]
    },
    {
      "cell_type": "markdown",
      "metadata": {
        "button": false,
        "id": "0pAGY-29rU_O",
        "new_sheet": false,
        "run_control": {
          "read_only": false
        }
      },
      "source": [
        "Step 1: Get the data:\n",
        "   1. Create a dataframe the consists of the numbers associated with Denmark, Norway, and Sweden only. Name it **df_countries**.\n",
        "   2. Sum the immigration numbers across all three countries for each year and turn the result into a dataframe. Name this new dataframe **df_total**.\n",
        "   3. Reset the index in place.\n",
        "   4. Rename the columns to **year** and **total**.\n",
        "   5. Display the resulting dataframe."
      ]
    },
    {
      "cell_type": "code",
      "metadata": {
        "button": false,
        "colab": {
          "base_uri": "https://localhost:8080/",
          "height": 1000
        },
        "id": "FC4NtDn3rU_Q",
        "new_sheet": false,
        "run_control": {
          "read_only": false
        },
        "scrolled": true,
        "outputId": "d05809ff-2dc5-4cfc-dd9e-7a92bb660b04"
      },
      "source": [
        "### type your answer here\n",
        "# 1\n",
        "df_countries = df_can.loc[[\"Denmark\",\"Norway\",\"Sweden\"], years]\n",
        "# 2\n",
        "df_total = pd.DataFrame(df_countries[years].sum(axis=0))\n",
        "# 3\n",
        "df_total.index= map(int, df_total.index)\n",
        "df_total.reset_index(inplace=True)\n",
        "# 4\n",
        "df_total.columns=[\"year\",\"total\"]\n",
        "#5\n",
        "df_total\n",
        "\n",
        "\n"
      ],
      "execution_count": 17,
      "outputs": [
        {
          "output_type": "execute_result",
          "data": {
            "text/html": [
              "<div>\n",
              "<style scoped>\n",
              "    .dataframe tbody tr th:only-of-type {\n",
              "        vertical-align: middle;\n",
              "    }\n",
              "\n",
              "    .dataframe tbody tr th {\n",
              "        vertical-align: top;\n",
              "    }\n",
              "\n",
              "    .dataframe thead th {\n",
              "        text-align: right;\n",
              "    }\n",
              "</style>\n",
              "<table border=\"1\" class=\"dataframe\">\n",
              "  <thead>\n",
              "    <tr style=\"text-align: right;\">\n",
              "      <th></th>\n",
              "      <th>year</th>\n",
              "      <th>total</th>\n",
              "    </tr>\n",
              "  </thead>\n",
              "  <tbody>\n",
              "    <tr>\n",
              "      <th>0</th>\n",
              "      <td>1980</td>\n",
              "      <td>669</td>\n",
              "    </tr>\n",
              "    <tr>\n",
              "      <th>1</th>\n",
              "      <td>1981</td>\n",
              "      <td>678</td>\n",
              "    </tr>\n",
              "    <tr>\n",
              "      <th>2</th>\n",
              "      <td>1982</td>\n",
              "      <td>627</td>\n",
              "    </tr>\n",
              "    <tr>\n",
              "      <th>3</th>\n",
              "      <td>1983</td>\n",
              "      <td>333</td>\n",
              "    </tr>\n",
              "    <tr>\n",
              "      <th>4</th>\n",
              "      <td>1984</td>\n",
              "      <td>252</td>\n",
              "    </tr>\n",
              "    <tr>\n",
              "      <th>5</th>\n",
              "      <td>1985</td>\n",
              "      <td>285</td>\n",
              "    </tr>\n",
              "    <tr>\n",
              "      <th>6</th>\n",
              "      <td>1986</td>\n",
              "      <td>336</td>\n",
              "    </tr>\n",
              "    <tr>\n",
              "      <th>7</th>\n",
              "      <td>1987</td>\n",
              "      <td>387</td>\n",
              "    </tr>\n",
              "    <tr>\n",
              "      <th>8</th>\n",
              "      <td>1988</td>\n",
              "      <td>373</td>\n",
              "    </tr>\n",
              "    <tr>\n",
              "      <th>9</th>\n",
              "      <td>1989</td>\n",
              "      <td>387</td>\n",
              "    </tr>\n",
              "    <tr>\n",
              "      <th>10</th>\n",
              "      <td>1990</td>\n",
              "      <td>331</td>\n",
              "    </tr>\n",
              "    <tr>\n",
              "      <th>11</th>\n",
              "      <td>1991</td>\n",
              "      <td>381</td>\n",
              "    </tr>\n",
              "    <tr>\n",
              "      <th>12</th>\n",
              "      <td>1992</td>\n",
              "      <td>411</td>\n",
              "    </tr>\n",
              "    <tr>\n",
              "      <th>13</th>\n",
              "      <td>1993</td>\n",
              "      <td>481</td>\n",
              "    </tr>\n",
              "    <tr>\n",
              "      <th>14</th>\n",
              "      <td>1994</td>\n",
              "      <td>345</td>\n",
              "    </tr>\n",
              "    <tr>\n",
              "      <th>15</th>\n",
              "      <td>1995</td>\n",
              "      <td>352</td>\n",
              "    </tr>\n",
              "    <tr>\n",
              "      <th>16</th>\n",
              "      <td>1996</td>\n",
              "      <td>301</td>\n",
              "    </tr>\n",
              "    <tr>\n",
              "      <th>17</th>\n",
              "      <td>1997</td>\n",
              "      <td>338</td>\n",
              "    </tr>\n",
              "    <tr>\n",
              "      <th>18</th>\n",
              "      <td>1998</td>\n",
              "      <td>217</td>\n",
              "    </tr>\n",
              "    <tr>\n",
              "      <th>19</th>\n",
              "      <td>1999</td>\n",
              "      <td>287</td>\n",
              "    </tr>\n",
              "    <tr>\n",
              "      <th>20</th>\n",
              "      <td>2000</td>\n",
              "      <td>287</td>\n",
              "    </tr>\n",
              "    <tr>\n",
              "      <th>21</th>\n",
              "      <td>2001</td>\n",
              "      <td>343</td>\n",
              "    </tr>\n",
              "    <tr>\n",
              "      <th>22</th>\n",
              "      <td>2002</td>\n",
              "      <td>293</td>\n",
              "    </tr>\n",
              "    <tr>\n",
              "      <th>23</th>\n",
              "      <td>2003</td>\n",
              "      <td>327</td>\n",
              "    </tr>\n",
              "    <tr>\n",
              "      <th>24</th>\n",
              "      <td>2004</td>\n",
              "      <td>291</td>\n",
              "    </tr>\n",
              "    <tr>\n",
              "      <th>25</th>\n",
              "      <td>2005</td>\n",
              "      <td>324</td>\n",
              "    </tr>\n",
              "    <tr>\n",
              "      <th>26</th>\n",
              "      <td>2006</td>\n",
              "      <td>293</td>\n",
              "    </tr>\n",
              "    <tr>\n",
              "      <th>27</th>\n",
              "      <td>2007</td>\n",
              "      <td>363</td>\n",
              "    </tr>\n",
              "    <tr>\n",
              "      <th>28</th>\n",
              "      <td>2008</td>\n",
              "      <td>339</td>\n",
              "    </tr>\n",
              "    <tr>\n",
              "      <th>29</th>\n",
              "      <td>2009</td>\n",
              "      <td>323</td>\n",
              "    </tr>\n",
              "    <tr>\n",
              "      <th>30</th>\n",
              "      <td>2010</td>\n",
              "      <td>297</td>\n",
              "    </tr>\n",
              "    <tr>\n",
              "      <th>31</th>\n",
              "      <td>2011</td>\n",
              "      <td>276</td>\n",
              "    </tr>\n",
              "    <tr>\n",
              "      <th>32</th>\n",
              "      <td>2012</td>\n",
              "      <td>287</td>\n",
              "    </tr>\n",
              "    <tr>\n",
              "      <th>33</th>\n",
              "      <td>2013</td>\n",
              "      <td>280</td>\n",
              "    </tr>\n",
              "  </tbody>\n",
              "</table>\n",
              "</div>"
            ],
            "text/plain": [
              "    year  total\n",
              "0   1980    669\n",
              "1   1981    678\n",
              "2   1982    627\n",
              "3   1983    333\n",
              "4   1984    252\n",
              "5   1985    285\n",
              "6   1986    336\n",
              "7   1987    387\n",
              "8   1988    373\n",
              "9   1989    387\n",
              "10  1990    331\n",
              "11  1991    381\n",
              "12  1992    411\n",
              "13  1993    481\n",
              "14  1994    345\n",
              "15  1995    352\n",
              "16  1996    301\n",
              "17  1997    338\n",
              "18  1998    217\n",
              "19  1999    287\n",
              "20  2000    287\n",
              "21  2001    343\n",
              "22  2002    293\n",
              "23  2003    327\n",
              "24  2004    291\n",
              "25  2005    324\n",
              "26  2006    293\n",
              "27  2007    363\n",
              "28  2008    339\n",
              "29  2009    323\n",
              "30  2010    297\n",
              "31  2011    276\n",
              "32  2012    287\n",
              "33  2013    280"
            ]
          },
          "metadata": {
            "tags": []
          },
          "execution_count": 17
        }
      ]
    },
    {
      "cell_type": "markdown",
      "metadata": {
        "button": false,
        "id": "Rfq2XmdYrU_U",
        "new_sheet": false,
        "run_control": {
          "read_only": false
        }
      },
      "source": [
        "Step 2: Generate the scatter plot by plotting the total versus year in **df_total**."
      ]
    },
    {
      "cell_type": "code",
      "metadata": {
        "button": false,
        "colab": {
          "base_uri": "https://localhost:8080/",
          "height": 457
        },
        "id": "QS-dFL1prU_U",
        "new_sheet": false,
        "run_control": {
          "read_only": false
        },
        "outputId": "8900a39d-38db-4c04-ed0f-a4b3817c13a9"
      },
      "source": [
        "### type your answer here\n",
        "df_total.plot(kind=\"scatter\", \n",
        "              x=\"year\", \n",
        "              y=\"total\", \n",
        "              figsize=(10,7), \n",
        "              color=\"red\"\n",
        ")\n",
        "plt.title(\"Total immigrants from Denmark, Norway, Sweden\")\n",
        "plt.xlabel(\"Year\")\n",
        "plt.ylabel(\"Number of Immigrants\")\n",
        "\n",
        "plt.show()\n",
        "\n",
        "\n"
      ],
      "execution_count": 18,
      "outputs": [
        {
          "output_type": "display_data",
          "data": {
            "image/png": "[encoded data removed]",
            "text/plain": [
              "<Figure size 720x504 with 1 Axes>"
            ]
          },
          "metadata": {
            "tags": [],
            "needs_background": "light"
          }
        }
      ]
    },
    {
      "cell_type": "markdown",
      "metadata": {
        "button": false,
        "id": "OMWnB404rU_h",
        "new_sheet": false,
        "run_control": {
          "read_only": false
        }
      },
      "source": [
        "**Question 4**: Previously in this lab, we created box plots to compare immigration from China and India to Canada. Create bubble plots of immigration from China and India to visualize any differences with time from 1980 to 2013. You can use **df_can_t** that we defined and used in the previous example."
      ]
    },
    {
      "cell_type": "markdown",
      "metadata": {
        "button": false,
        "id": "chmnaxQnrU_i",
        "new_sheet": false,
        "run_control": {
          "read_only": false
        }
      },
      "source": [
        "Step 1: Normalize the data pertaining to China and India."
      ]
    },
    {
      "cell_type": "code",
      "metadata": {
        "button": false,
        "id": "eKUqolgorU_i",
        "new_sheet": false,
        "run_control": {
          "read_only": false
        }
      },
      "source": [
        "### type your answer here\n",
        "### type your answer here\n",
        "df_can_t = df_can.loc[[\"China\",\"India\"], years]\n",
        "df_can_t = df_can_t[years].transpose()\n",
        "df_can_t.index = map(int, df_can_t.index)\n",
        "df_can_t.index.name = \"Year\"\n",
        "df_can_t.reset_index(inplace=True)\n",
        "\n",
        "#normalize china\n",
        "norm_china = (df_can_t[\"China\"] - df_can_t[\"China\"].min()) / (df_can_t[\"China\"].max() - df_can_t[\"China\"].min())\n",
        "#normalize india\n",
        "norm_india = (df_can_t[\"India\"] - df_can_t[\"India\"].min()) / (df_can_t[\"India\"].max() - df_can_t[\"India\"].min())\n",
        "\n"
      ],
      "execution_count": 19,
      "outputs": []
    },
    {
      "cell_type": "markdown",
      "metadata": {
        "button": false,
        "id": "Fvp_gheyrU_k",
        "new_sheet": false,
        "run_control": {
          "read_only": false
        }
      },
      "source": [
        "Step 2: Generate the bubble plots."
      ]
    },
    {
      "cell_type": "code",
      "metadata": {
        "button": false,
        "colab": {
          "base_uri": "https://localhost:8080/",
          "height": 528
        },
        "id": "omlZBcNKrU_l",
        "new_sheet": false,
        "run_control": {
          "read_only": false
        },
        "outputId": "6ac5f238-ca12-41ce-9542-5c956d56f8cc"
      },
      "source": [
        "### type your answer here\n",
        "# China\n",
        "ax1 = df_can_t.plot(kind=\"scatter\",\n",
        "                    x=\"Year\",\n",
        "                    y=\"China\",\n",
        "                    figsize=(14,8),\n",
        "                    alpha=0.5,\n",
        "                    color=\"tomato\",\n",
        "                    s=norm_china * 2000 +10, xlim=(1975,2015)\n",
        "                    )\n",
        "\n",
        "# India\n",
        "ax2 = df_can_t.plot(kind=\"scatter\",\n",
        "                    x=\"Year\",\n",
        "                    y=\"India\",\n",
        "                    figsize=(14,8),\n",
        "                    alpha=0.5,\n",
        "                    color=\"royalblue\",\n",
        "                    s=norm_india * 2000 +10,\n",
        "                    ax =ax1\n",
        "                    )\n",
        "ax1.set_ylabel(\"Number of Immigrants\")\n",
        "ax1.set_title(\"Immigrants from China and India from 1980 - 2013\")\n",
        "ax1.legend([\"China\",\"India\"], loc=\"upper left\", fontsize=\"x-large\")\n",
        "\n",
        "\n",
        "\n"
      ],
      "execution_count": 20,
      "outputs": [
        {
          "output_type": "execute_result",
          "data": {
            "text/plain": [
              "<matplotlib.legend.Legend at 0x7fdf1cfcff90>"
            ]
          },
          "metadata": {
            "tags": []
          },
          "execution_count": 20
        },
        {
          "output_type": "display_data",
          "data": {
            "image/png": "[encoded data removed]",
            "text/plain": [
              "<Figure size 1008x576 with 1 Axes>"
            ]
          },
          "metadata": {
            "tags": [],
            "needs_background": "light"
          }
        }
      ]
    },
    {
      "cell_type": "markdown",
      "metadata": {
        "button": false,
        "id": "xTJ_gKTtrU_n",
        "new_sheet": false,
        "run_control": {
          "read_only": false
        }
      },
      "source": [
        "# Thank you for completing this lab!"
      ]
    },
    {
      "cell_type": "markdown",
      "metadata": {
        "button": false,
        "id": "cwgnIYRErU_o",
        "new_sheet": false,
        "run_control": {
          "read_only": false
        }
      },
      "source": [
        "<hr>\n",
        "\n",
        "Copyright &copy; 2019 [Cognitive Class](https://cognitiveclass.ai/?utm_source=bducopyrightlink&utm_medium=dswb&utm_campaign=bdu). This notebook and its source code are released under the terms of the [MIT License](https://bigdatauniversity.com/mit-license/)."
      ]
    }
  ]
}